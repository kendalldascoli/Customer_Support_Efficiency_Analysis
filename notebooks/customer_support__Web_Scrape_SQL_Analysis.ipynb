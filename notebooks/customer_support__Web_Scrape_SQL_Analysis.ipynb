{
 "cells": [
  {
   "cell_type": "code",
   "execution_count": 1,
   "id": "b2bea825",
   "metadata": {},
   "outputs": [],
   "source": [
    "import pandas as pd\n",
    "pd.set_option('display.max_rows', None)"
   ]
  },
  {
   "cell_type": "code",
   "execution_count": 2,
   "id": "b8f26871",
   "metadata": {},
   "outputs": [],
   "source": [
    "from sqlalchemy import create_engine, text\n",
    "from dotenv import load_dotenv\n",
    "import os\n",
    "\n",
    "load_dotenv()\n",
    "\n",
    "pg_conn_str = f\"postgresql+psycopg2://{os.getenv('PG_USER')}:{os.getenv('PG_PASSWORD')}@{os.getenv('PG_HOST')}/{os.getenv('PG_DB')}\"\n",
    "engine = create_engine(pg_conn_str)\n"
   ]
  },
  {
   "cell_type": "code",
   "execution_count": 3,
   "id": "69145164",
   "metadata": {},
   "outputs": [],
   "source": [
    "with engine.connect() as conn:\n",
    "    conn.execute(text(\"\"\"\n",
    "        CREATE TABLE IF NOT EXISTS staging.customer_support_cleaned AS\n",
    "        SELECT \n",
    "            ticket_id::BIGINT,\n",
    "            TRIM(customer_name) AS customer_name,\n",
    "            TRIM(issue_description) AS issue_description,\n",
    "            TRIM(status) AS ticket_status\n",
    "        FROM sql_project.customer_support_raw;\n",
    "    \"\"\"))\n",
    "    conn.commit()\n"
   ]
  },
  {
   "cell_type": "code",
   "execution_count": 4,
   "id": "e27d48ba",
   "metadata": {},
   "outputs": [],
   "source": [
    "with engine.connect() as conn:\n",
    "    conn.execute(text(\"\"\"\n",
    "        CREATE TABLE IF NOT EXISTS staging.trustpilot_reviews_cleaned AS\n",
    "        SELECT \n",
    "            review_id::INT,\n",
    "            TRIM(review) AS review_text,\n",
    "            ticket_id::BIGINT\n",
    "        FROM sql_project.trustpilot_reviews_cleaned\n",
    "        WHERE review IS NOT NULL AND LENGTH(TRIM(review)) > 20;\n",
    "    \"\"\"))\n",
    "    conn.commit()\n"
   ]
  },
  {
   "cell_type": "code",
   "execution_count": 5,
   "id": "445339a9",
   "metadata": {},
   "outputs": [],
   "source": [
    "with engine.connect() as conn:\n",
    "    conn.execute(text(\"\"\"\n",
    "        CREATE TABLE IF NOT EXISTS warehouse.dim_tickets AS\n",
    "        SELECT \n",
    "            ticket_id,\n",
    "            customer_name,\n",
    "            issue_description,\n",
    "            ticket_status\n",
    "        FROM staging.customer_support_cleaned;\n",
    "    \"\"\"))\n",
    "    conn.commit()\n"
   ]
  },
  {
   "cell_type": "code",
   "execution_count": 6,
   "id": "90786fe7",
   "metadata": {},
   "outputs": [],
   "source": [
    "with engine.connect() as conn:\n",
    "    conn.execute(text(\"\"\"\n",
    "        CREATE TABLE IF NOT EXISTS warehouse.fact_reviews AS\n",
    "        SELECT \n",
    "            review_id,\n",
    "            review_text,\n",
    "            ticket_id\n",
    "        FROM staging.trustpilot_reviews_cleaned;\n",
    "    \"\"\"))\n",
    "    conn.commit()\n"
   ]
  },
  {
   "cell_type": "markdown",
   "id": "2cfd45ee",
   "metadata": {},
   "source": [
    "Business Question: Which customer support ticket statuses are most frequently associated with negative sentiment in Trustpilot reviews?"
   ]
  },
  {
   "cell_type": "code",
   "execution_count": 7,
   "id": "9f3221a2",
   "metadata": {},
   "outputs": [
    {
     "data": {
      "text/html": [
       "<div>\n",
       "<style scoped>\n",
       "    .dataframe tbody tr th:only-of-type {\n",
       "        vertical-align: middle;\n",
       "    }\n",
       "\n",
       "    .dataframe tbody tr th {\n",
       "        vertical-align: top;\n",
       "    }\n",
       "\n",
       "    .dataframe thead th {\n",
       "        text-align: right;\n",
       "    }\n",
       "</style>\n",
       "<table border=\"1\" class=\"dataframe\">\n",
       "  <thead>\n",
       "    <tr style=\"text-align: right;\">\n",
       "      <th></th>\n",
       "      <th>ticket_status</th>\n",
       "      <th>sentiment</th>\n",
       "      <th>review_count</th>\n",
       "      <th>rank_within_sentiment</th>\n",
       "    </tr>\n",
       "  </thead>\n",
       "  <tbody>\n",
       "    <tr>\n",
       "      <th>0</th>\n",
       "      <td>Open</td>\n",
       "      <td>Negative</td>\n",
       "      <td>11</td>\n",
       "      <td>1</td>\n",
       "    </tr>\n",
       "    <tr>\n",
       "      <th>1</th>\n",
       "      <td>Open</td>\n",
       "      <td>Neutral/Positive</td>\n",
       "      <td>88</td>\n",
       "      <td>1</td>\n",
       "    </tr>\n",
       "  </tbody>\n",
       "</table>\n",
       "</div>"
      ],
      "text/plain": [
       "  ticket_status         sentiment  review_count  rank_within_sentiment\n",
       "0          Open          Negative            11                      1\n",
       "1          Open  Neutral/Positive            88                      1"
      ]
     },
     "metadata": {},
     "output_type": "display_data"
    }
   ],
   "source": [
    "from sqlalchemy import text\n",
    "\n",
    "query = text(\"\"\"WITH sentiment_flagged AS (\n",
    "    SELECT\n",
    "        r.review_id,\n",
    "        r.review,\n",
    "        r.ticket_id,\n",
    "        t.status AS ticket_status,\n",
    "        CASE\n",
    "            WHEN r.review ILIKE '%not%' OR r.review ILIKE '%bad%' OR\n",
    "                 r.review ILIKE '%poor%' OR r.review ILIKE '%frustrat%' OR\n",
    "                 r.review ILIKE '%slow%' OR r.review ILIKE '%issue%'\n",
    "            THEN 'Negative'\n",
    "            ELSE 'Neutral/Positive'\n",
    "        END AS sentiment\n",
    "    FROM sql_project.trustpilot_reviews_cleaned r\n",
    "    LEFT JOIN sql_project.customer_support_raw t ON r.ticket_id::INT = t.ticket_id\n",
    "),\n",
    "sentiment_count AS (\n",
    "    SELECT\n",
    "        ticket_status,\n",
    "        sentiment,\n",
    "        COUNT(*) AS review_count\n",
    "    FROM sentiment_flagged\n",
    "    GROUP BY ticket_status, sentiment\n",
    "),\n",
    "ranked_status AS (\n",
    "    SELECT *,\n",
    "           RANK() OVER (PARTITION BY sentiment ORDER BY review_count DESC) AS rank_within_sentiment\n",
    "    FROM sentiment_count\n",
    ")\n",
    "SELECT *\n",
    "FROM ranked_status\n",
    "ORDER BY sentiment, review_count DESC\n",
    "\"\"\")\n",
    "\n",
    "with engine.connect().execution_options(isolation_level=\"AUTOCOMMIT\") as conn:\n",
    "    df_reviews = pd.read_sql(query, conn)\n",
    "    display(df_reviews)  # 👈 Required to render in GitHub\n"
   ]
  },
  {
   "cell_type": "markdown",
   "id": "adc50944",
   "metadata": {},
   "source": [
    "Insight: The “Open” ticket status has the highest share of both negative and neutral/positive reviews, suggesting these reviews cluster before resolution."
   ]
  },
  {
   "cell_type": "markdown",
   "id": "dcb7607e",
   "metadata": {},
   "source": [
    "Reccomendation: Encourage your support team to proactively resolve tickets earlier and ensure negative sentiment is addressed before it compounds."
   ]
  },
  {
   "cell_type": "markdown",
   "id": "ea4c36e2",
   "metadata": {},
   "source": [
    "Prediction:\n",
    "Given that 11 out of 99 reviews were flagged as negative and tied to “Open” tickets, I predict that as the volume of reviews increases, the percentage of negative reviews tied to unresolved issues will grow unless support SLAs improve.\n"
   ]
  }
 ],
 "metadata": {
  "kernelspec": {
   "display_name": "Python 3",
   "language": "python",
   "name": "python3"
  },
  "language_info": {
   "codemirror_mode": {
    "name": "ipython",
    "version": 3
   },
   "file_extension": ".py",
   "mimetype": "text/x-python",
   "name": "python",
   "nbconvert_exporter": "python",
   "pygments_lexer": "ipython3",
   "version": "3.12.1"
  }
 },
 "nbformat": 4,
 "nbformat_minor": 5
}
