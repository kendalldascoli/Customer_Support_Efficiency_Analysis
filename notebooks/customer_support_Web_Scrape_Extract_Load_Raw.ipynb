{
 "cells": [
  {
   "cell_type": "code",
   "execution_count": null,
   "id": "aa310f7e-9ea7-493c-8038-10d0471416e1",
   "metadata": {},
   "outputs": [],
   "source": [
    "from selenium import webdriver\n",
    "from selenium.webdriver.common.by import By\n",
    "from selenium.webdriver.chrome.service import Service\n",
    "from webdriver_manager.chrome import ChromeDriverManager\n",
    "from selenium.webdriver.chrome.options import Options\n",
    "from selenium.webdriver.support.ui import WebDriverWait\n",
    "from selenium.webdriver.support import expected_conditions as EC\n",
    "import pandas as pd\n",
    "import time\n",
    "\n",
    "# Setup WebDriver\n",
    "options = Options()\n",
    "options.add_argument(\"--headless\")\n",
    "driver = webdriver.Chrome(service=Service(ChromeDriverManager().install()), options=options)\n",
    "\n",
    "# Open Trustpilot page\n",
    "url = \"https://www.trustpilot.com/review/www.zendesk.com\"\n",
    "driver.get(url)\n",
    "\n",
    "# Initialize reviews list\n",
    "all_reviews = []\n",
    "\n",
    "while True:\n",
    "    try:\n",
    "        # Wait for reviews to load\n",
    "        WebDriverWait(driver, 10).until(\n",
    "            EC.presence_of_all_elements_located((By.XPATH, \"//p[contains(@class, 'typography_body')]\"))\n",
    "        )\n",
    "\n",
    "        # Extract reviews on this page\n",
    "        review_elements = driver.find_elements(By.XPATH, \"//p[contains(@class, 'typography_body')]\")\n",
    "        page_reviews = [elem.text for elem in review_elements]\n",
    "        all_reviews.extend(page_reviews)\n",
    "\n",
    "        # Try clicking the next page button\n",
    "        next_button = driver.find_element(By.CSS_SELECTOR, 'a[data-pagination-button-next-link]')\n",
    "        if 'disabled' in next_button.get_attribute('class'):\n",
    "            break  # No more pages\n",
    "        next_button.click()\n",
    "        time.sleep(2)  # Give time for page transition\n",
    "\n",
    "    except Exception as e:\n",
    "        print(\"No more pages or error:\", e)\n",
    "        break\n",
    "\n",
    "# Convert to DataFrame\n",
    "df_reviews = pd.DataFrame(all_reviews, columns=[\"review\"])\n",
    "print(df_reviews.head())\n",
    "print(f\"✅ Total reviews scraped: {len(df_reviews)}\")\n",
    "\n",
    "driver.quit()"
   ]
  },
  {
   "cell_type": "code",
   "execution_count": null,
   "id": "18ab895c-6b1d-4268-94c3-bffd7edaa3f7",
   "metadata": {},
   "outputs": [],
   "source": [
    "from selenium import webdriver\n",
    "from selenium.webdriver.common.by import By\n",
    "from selenium.webdriver.chrome.service import Service\n",
    "from webdriver_manager.chrome import ChromeDriverManager\n",
    "from selenium.webdriver.chrome.options import Options\n",
    "from selenium.webdriver.support.ui import WebDriverWait\n",
    "from selenium.webdriver.support import expected_conditions as EC\n",
    "import pandas as pd\n",
    "import time\n",
    "\n",
    "# Setup WebDriver\n",
    "options = Options()\n",
    "options.add_argument(\"--headless\")\n",
    "driver = webdriver.Chrome(service=Service(ChromeDriverManager().install()), options=options)\n",
    "\n",
    "# Open Trustpilot page\n",
    "url = \"https://www.trustpilot.com/review/www.zendesk.com\"\n",
    "driver.get(url)\n",
    "\n",
    "# Initialize reviews list\n",
    "all_reviews = []\n",
    "\n",
    "while True:\n",
    "    try:\n",
    "        # Wait for reviews to load\n",
    "        WebDriverWait(driver, 10).until(\n",
    "            EC.presence_of_all_elements_located((By.XPATH, \"//p[contains(@class, 'typography_body')]\"))\n",
    "        )\n",
    "\n",
    "        # Extract reviews on this page\n",
    "        review_elements = driver.find_elements(By.XPATH, \"//p[contains(@class, 'typography_body')]\")\n",
    "        page_reviews = [elem.text for elem in review_elements]\n",
    "        all_reviews.extend(page_reviews)\n",
    "\n",
    "        # Try clicking the next page button\n",
    "        next_button = driver.find_element(By.CSS_SELECTOR, 'a[data-pagination-button-next-link]')\n",
    "        if 'disabled' in next_button.get_attribute('class'):\n",
    "            break  # No more pages\n",
    "        next_button.click()\n",
    "        time.sleep(2)  # Give time for page transition\n",
    "\n",
    "    except Exception as e:\n",
    "        print(\"No more pages or error:\", e)\n",
    "        break\n",
    "\n",
    "# Convert to DataFrame\n",
    "df_reviews = pd.DataFrame(all_reviews, columns=[\"review\"])\n",
    "print(df_reviews.head())\n",
    "print(f\"✅ Total reviews scraped: {len(df_reviews)}\")\n",
    "\n",
    "driver.quit()"
   ]
  },
  {
   "cell_type": "code",
   "execution_count": null,
   "id": "327711e4-0562-4025-a984-743f5c0a4965",
   "metadata": {},
   "outputs": [],
   "source": [
    "from sqlalchemy import create_engine\n",
    "\n",
    "# PostgreSQL Connection Details\n",
    "user = 'postgres'\n",
    "password = 'isba_4715'\n",
    "host = 'isba-dev-02.cxue0o466fzu.us-east-1.rds.amazonaws.com'\n",
    "port = 5432\n",
    "database = 'postgres'  # Change this if using a different DB name\n",
    "\n",
    "# Create engine string\n",
    "engine = create_engine(f'postgresql+psycopg2://{user}:{password}@{host}:{port}/{database}')\n",
    "\n",
    "# Upload DataFrame\n",
    "df_reviews.to_sql(name='trustpilot_reviews', con=engine, if_exists='replace', index=False)\n",
    "\n",
    "print(\"✅ Data uploaded to PostgreSQL.\")"
   ]
  },
  {
   "cell_type": "code",
   "execution_count": null,
   "id": "65feaea6-8c83-4711-95d5-fd519469779b",
   "metadata": {},
   "outputs": [],
   "source": [
    "df_reviews.to_sql(\n",
    "    name='trustpilot_reviews',\n",
    "    con=engine,\n",
    "    schema='sql_project',  # 👈 this ensures it lands in the correct schema\n",
    "    if_exists='replace',\n",
    "    index=False\n",
    ")"
   ]
  },
  {
   "cell_type": "code",
   "execution_count": null,
   "id": "acf05296-5ad9-4392-8b93-5086ff7bc925",
   "metadata": {},
   "outputs": [],
   "source": [
    "from dotenv import load_dotenv\n",
    "import os\n",
    "import pandas as pd\n",
    "from sqlalchemy import create_engine\n",
    "\n",
    "load_dotenv()\n",
    "\n",
    "pg_conn_str = f\"postgresql+psycopg2://{os.getenv('PG_USER')}:{os.getenv('PG_PASSWORD')}@{os.getenv('PG_HOST')}/{os.getenv('PG_DB')}\"\n",
    "pg_engine = create_engine(pg_conn_str)\n",
    "\n",
    "# Extract\n",
    "query = \"SELECT * FROM sql_project.trustpilot_reviews\"\n",
    "df = pd.read_sql(query, pg_engine)\n",
    "\n",
    "# Load\n",
    "df.to_sql(\n",
    "    name='trustpilot_reviews_raw',\n",
    "    con=pg_engine,\n",
    "    schema='raw',\n",
    "    if_exists='replace',\n",
    "    index=False\n",
    ")\n",
    "\n",
    "print(\"✅ Successfully extracted and loaded Trustpilot Reviews!\")\n"
   ]
  },
  {
   "cell_type": "code",
   "execution_count": null,
   "id": "1a7d44cf",
   "metadata": {},
   "outputs": [],
   "source": [
    "# Quick checks\n",
    "print(df.info())\n",
    "print(df.isnull().sum())\n",
    "print(df.describe())\n",
    "print(df.head())\n",
    "\n",
    "# Light cleaning examples\n",
    "df.columns = [col.strip().lower().replace(' ', '_') for col in df.columns]  # Clean column names\n",
    "df = df.drop_duplicates()  # Remove duplicate rows\n",
    "df = df.dropna(subset=['review'])  # Remove rows missing important fields\n",
    "\n"
   ]
  },
  {
   "cell_type": "markdown",
   "id": "2157d74b",
   "metadata": {},
   "source": [
    "Testing New Format"
   ]
  },
  {
   "cell_type": "code",
   "execution_count": 7,
   "id": "4c66fd9c",
   "metadata": {},
   "outputs": [],
   "source": [
    "# --- Imports ---\n",
    "import requests\n",
    "from bs4 import BeautifulSoup\n",
    "import pandas as pd\n",
    "from sqlalchemy import create_engine\n",
    "from dotenv import load_dotenv\n",
    "import os"
   ]
  },
  {
   "cell_type": "code",
   "execution_count": null,
   "id": "5687445b",
   "metadata": {},
   "outputs": [],
   "source": [
    "# --- Load .env variables ---\n",
    "load_dotenv()\n",
    "pg_conn_str = f\"postgresql+psycopg2://{os.getenv('PG_USER')}:{os.getenv('PG_PASSWORD')}@{os.getenv('PG_HOST')}/{os.getenv('PG_DB')}\"\n",
    "pg_engine = create_engine(pg_conn_str)"
   ]
  },
  {
   "cell_type": "code",
   "execution_count": 8,
   "id": "130530a6",
   "metadata": {},
   "outputs": [],
   "source": [
    "# --- Static HTML request (no Selenium) ---\n",
    "url = \"https://www.trustpilot.com/review/www.zendesk.com\"\n",
    "headers = {\"User-Agent\": \"Mozilla/5.0\"}\n",
    "\n",
    "response = requests.get(url, headers=headers)\n",
    "soup = BeautifulSoup(response.content, \"html.parser\")"
   ]
  },
  {
   "cell_type": "code",
   "execution_count": 9,
   "id": "02f73923",
   "metadata": {},
   "outputs": [],
   "source": [
    "# --- Extract reviews ---\n",
    "reviews = []\n",
    "for p in soup.find_all(\"p\", class_=\"typography_body-l__KUYFJ typography_appearance-default__AAY17\"):\n",
    "    text = p.text.strip()\n",
    "    if len(text) > 20:\n",
    "        reviews.append(text)"
   ]
  },
  {
   "cell_type": "code",
   "execution_count": 10,
   "id": "83aa0443",
   "metadata": {},
   "outputs": [],
   "source": [
    "# --- Create DataFrame ---\n",
    "df_reviews = pd.DataFrame(reviews, columns=[\"review\"])\n",
    "df_reviews = df_reviews.drop_duplicates().dropna()\n",
    "df_reviews.reset_index(inplace=True)\n",
    "df_reviews.rename(columns={\"index\": \"review_id\"}, inplace=True)"
   ]
  },
  {
   "cell_type": "code",
   "execution_count": 12,
   "id": "62bead89",
   "metadata": {},
   "outputs": [
    {
     "name": "stdout",
     "output_type": "stream",
     "text": [
      "✅ Uploaded Trustpilot reviews without using Selenium.\n",
      "Empty DataFrame\n",
      "Columns: [review_id, review]\n",
      "Index: []\n"
     ]
    }
   ],
   "source": [
    "# --- Upload to PostgreSQL ---\n",
    "df_reviews.to_sql(\n",
    "    name='trustpilot_reviews_cleaned',\n",
    "    con=pg_engine,\n",
    "    schema='sql_project',\n",
    "    if_exists='replace',\n",
    "    index=False\n",
    ")\n",
    "\n",
    "print(\"✅ Uploaded Trustpilot reviews without using Selenium.\")\n",
    "print(df_reviews.head())"
   ]
  },
  {
   "cell_type": "code",
   "execution_count": 13,
   "id": "cdbbbc06",
   "metadata": {},
   "outputs": [
    {
     "name": "stdout",
     "output_type": "stream",
     "text": [
      "✅ Updated table with ticket_id and uploaded to database.\n"
     ]
    }
   ],
   "source": [
    "import pandas as pd\n",
    "from sqlalchemy import create_engine\n",
    "from dotenv import load_dotenv\n",
    "import os\n",
    "\n",
    "load_dotenv()\n",
    "\n",
    "# Setup connection\n",
    "pg_conn_str = f\"postgresql+psycopg2://{os.getenv('PG_USER')}:{os.getenv('PG_PASSWORD')}@{os.getenv('PG_HOST')}/{os.getenv('PG_DB')}\"\n",
    "pg_engine = create_engine(pg_conn_str)\n",
    "\n",
    "# Load tables\n",
    "df_reviews = pd.read_sql(\"SELECT * FROM sql_project.trustpilot_reviews_cleaned\", pg_engine)\n",
    "df_tickets = pd.read_sql(\"SELECT * FROM sql_project.customer_support_raw\", pg_engine)\n",
    "\n",
    "# Basic text matching: assign ticket_id if customer_name appears in the review\n",
    "def match_ticket_id(review_text):\n",
    "    for _, row in df_tickets.iterrows():\n",
    "        if row['customer_name'].lower() in review_text.lower():\n",
    "            return row['ticket_id']\n",
    "    return None\n",
    "\n",
    "df_reviews['ticket_id'] = df_reviews['review'].apply(match_ticket_id)\n",
    "\n",
    "# Drop unmatched if desired\n",
    "df_reviews = df_reviews.dropna(subset=['ticket_id'])\n",
    "\n",
    "# Save the updated table back to the database\n",
    "df_reviews.to_sql(\n",
    "    name='trustpilot_reviews_cleaned',\n",
    "    con=pg_engine,\n",
    "    schema='sql_project',\n",
    "    if_exists='replace',\n",
    "    index=False\n",
    ")\n",
    "\n",
    "print(\"✅ Updated table with ticket_id and uploaded to database.\")\n"
   ]
  }
 ],
 "metadata": {
  "kernelspec": {
   "display_name": "Python 3",
   "language": "python",
   "name": "python3"
  },
  "language_info": {
   "codemirror_mode": {
    "name": "ipython",
    "version": 3
   },
   "file_extension": ".py",
   "mimetype": "text/x-python",
   "name": "python",
   "nbconvert_exporter": "python",
   "pygments_lexer": "ipython3",
   "version": "3.12.1"
  }
 },
 "nbformat": 4,
 "nbformat_minor": 5
}
