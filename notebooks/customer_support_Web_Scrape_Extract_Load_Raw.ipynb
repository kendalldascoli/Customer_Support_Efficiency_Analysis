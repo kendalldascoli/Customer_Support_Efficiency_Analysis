{
 "cells": [
  {
   "cell_type": "code",
   "execution_count": 5,
   "id": "aa310f7e-9ea7-493c-8038-10d0471416e1",
   "metadata": {},
   "outputs": [
    {
     "name": "stdout",
     "output_type": "stream",
     "text": [
      "No more pages or error: Message: stale element reference: stale element not found\n",
      "  (Session info: chrome-headless-shell=120.0.6099.129); For documentation on this error, please visit: https://www.selenium.dev/documentation/webdriver/troubleshooting/errors#stale-element-reference-exception\n",
      "Stacktrace:\n",
      "0   chromedriver                        0x000000010321c4dc chromedriver + 4162780\n",
      "1   chromedriver                        0x0000000103214664 chromedriver + 4130404\n",
      "2   chromedriver                        0x0000000102e6bbc0 chromedriver + 293824\n",
      "3   chromedriver                        0x0000000102e71234 chromedriver + 315956\n",
      "4   chromedriver                        0x0000000102e7313c chromedriver + 323900\n",
      "5   chromedriver                        0x0000000102e73278 chromedriver + 324216\n",
      "6   chromedriver                        0x0000000102eb8fec chromedriver + 610284\n",
      "7   chromedriver                        0x0000000102eb7090 chromedriver + 602256\n",
      "8   chromedriver                        0x0000000102eb4b58 chromedriver + 592728\n",
      "9   chromedriver                        0x0000000102eb3b24 chromedriver + 588580\n",
      "10  chromedriver                        0x0000000102ea7994 chromedriver + 539028\n",
      "11  chromedriver                        0x0000000102ea7250 chromedriver + 537168\n",
      "12  chromedriver                        0x0000000102ef1ab0 chromedriver + 842416\n",
      "13  chromedriver                        0x0000000102ea56bc chromedriver + 530108\n",
      "14  chromedriver                        0x0000000102ea6930 chromedriver + 534832\n",
      "15  chromedriver                        0x00000001031e1e08 chromedriver + 3923464\n",
      "16  chromedriver                        0x00000001031e63dc chromedriver + 3941340\n",
      "17  chromedriver                        0x00000001031ca038 chromedriver + 3825720\n",
      "18  chromedriver                        0x00000001031e6f3c chromedriver + 3944252\n",
      "19  chromedriver                        0x00000001031bc6f4 chromedriver + 3770100\n",
      "20  chromedriver                        0x0000000103203980 chromedriver + 4061568\n",
      "21  chromedriver                        0x0000000103203af8 chromedriver + 4061944\n",
      "22  chromedriver                        0x00000001032142e4 chromedriver + 4129508\n",
      "23  libsystem_pthread.dylib             0x000000018e231034 _pthread_start + 136\n",
      "24  libsystem_pthread.dylib             0x000000018e22be3c thread_start + 8\n",
      "\n",
      "                                              review\n",
      "0                                                1.8\n",
      "1  Companies on Trustpilot can’t offer incentives...\n",
      "2  the tool is easy to use, which allows to make ...\n",
      "3  Zendesk, the AI only support company charging ...\n",
      "4  Warning .This company accessed my credit card ...\n",
      "✅ Total reviews scraped: 98\n"
     ]
    }
   ],
   "source": [
    "from selenium import webdriver\n",
    "from selenium.webdriver.common.by import By\n",
    "from selenium.webdriver.chrome.service import Service\n",
    "from webdriver_manager.chrome import ChromeDriverManager\n",
    "from selenium.webdriver.chrome.options import Options\n",
    "from selenium.webdriver.support.ui import WebDriverWait\n",
    "from selenium.webdriver.support import expected_conditions as EC\n",
    "import pandas as pd\n",
    "import time\n",
    "\n",
    "# Setup WebDriver\n",
    "options = Options()\n",
    "options.add_argument(\"--headless\")\n",
    "driver = webdriver.Chrome(service=Service(ChromeDriverManager().install()), options=options)\n",
    "\n",
    "# Open Trustpilot page\n",
    "url = \"https://www.trustpilot.com/review/www.zendesk.com\"\n",
    "driver.get(url)\n",
    "\n",
    "# Initialize reviews list\n",
    "all_reviews = []\n",
    "\n",
    "while True:\n",
    "    try:\n",
    "        # Wait for reviews to load\n",
    "        WebDriverWait(driver, 10).until(\n",
    "            EC.presence_of_all_elements_located((By.XPATH, \"//p[contains(@class, 'typography_body')]\"))\n",
    "        )\n",
    "\n",
    "        # Extract reviews on this page\n",
    "        review_elements = driver.find_elements(By.XPATH, \"//p[contains(@class, 'typography_body')]\")\n",
    "        page_reviews = [elem.text for elem in review_elements]\n",
    "        all_reviews.extend(page_reviews)\n",
    "\n",
    "        # Try clicking the next page button\n",
    "        next_button = driver.find_element(By.CSS_SELECTOR, 'a[data-pagination-button-next-link]')\n",
    "        if 'disabled' in next_button.get_attribute('class'):\n",
    "            break  # No more pages\n",
    "        next_button.click()\n",
    "        time.sleep(2)  # Give time for page transition\n",
    "\n",
    "    except Exception as e:\n",
    "        print(\"No more pages or error:\", e)\n",
    "        break\n",
    "\n",
    "# Convert to DataFrame\n",
    "df_reviews = pd.DataFrame(all_reviews, columns=[\"review\"])\n",
    "print(df_reviews.head())\n",
    "print(f\"✅ Total reviews scraped: {len(df_reviews)}\")\n",
    "\n",
    "driver.quit()"
   ]
  },
  {
   "cell_type": "code",
   "execution_count": 7,
   "id": "18ab895c-6b1d-4268-94c3-bffd7edaa3f7",
   "metadata": {},
   "outputs": [
    {
     "name": "stdout",
     "output_type": "stream",
     "text": [
      "No more pages or error: Message: stale element reference: stale element not found\n",
      "  (Session info: chrome-headless-shell=120.0.6099.129); For documentation on this error, please visit: https://www.selenium.dev/documentation/webdriver/troubleshooting/errors#stale-element-reference-exception\n",
      "Stacktrace:\n",
      "0   chromedriver                        0x00000001052fc4dc chromedriver + 4162780\n",
      "1   chromedriver                        0x00000001052f4664 chromedriver + 4130404\n",
      "2   chromedriver                        0x0000000104f4bbc0 chromedriver + 293824\n",
      "3   chromedriver                        0x0000000104f51234 chromedriver + 315956\n",
      "4   chromedriver                        0x0000000104f5313c chromedriver + 323900\n",
      "5   chromedriver                        0x0000000104f53278 chromedriver + 324216\n",
      "6   chromedriver                        0x0000000104f98fec chromedriver + 610284\n",
      "7   chromedriver                        0x0000000104f97090 chromedriver + 602256\n",
      "8   chromedriver                        0x0000000104f94b58 chromedriver + 592728\n",
      "9   chromedriver                        0x0000000104f93b24 chromedriver + 588580\n",
      "10  chromedriver                        0x0000000104f87994 chromedriver + 539028\n",
      "11  chromedriver                        0x0000000104f87250 chromedriver + 537168\n",
      "12  chromedriver                        0x0000000104fd1ab0 chromedriver + 842416\n",
      "13  chromedriver                        0x0000000104f856bc chromedriver + 530108\n",
      "14  chromedriver                        0x0000000104f86930 chromedriver + 534832\n",
      "15  chromedriver                        0x00000001052c1e08 chromedriver + 3923464\n",
      "16  chromedriver                        0x00000001052c63dc chromedriver + 3941340\n",
      "17  chromedriver                        0x00000001052aa038 chromedriver + 3825720\n",
      "18  chromedriver                        0x00000001052c6f3c chromedriver + 3944252\n",
      "19  chromedriver                        0x000000010529c6f4 chromedriver + 3770100\n",
      "20  chromedriver                        0x00000001052e3980 chromedriver + 4061568\n",
      "21  chromedriver                        0x00000001052e3af8 chromedriver + 4061944\n",
      "22  chromedriver                        0x00000001052f42e4 chromedriver + 4129508\n",
      "23  libsystem_pthread.dylib             0x000000018e231034 _pthread_start + 136\n",
      "24  libsystem_pthread.dylib             0x000000018e22be3c thread_start + 8\n",
      "\n",
      "                                              review\n",
      "0                                                1.8\n",
      "1  Companies on Trustpilot can’t offer incentives...\n",
      "2  the tool is easy to use, which allows to make ...\n",
      "3  Zendesk, the AI only support company charging ...\n",
      "4  Warning .This company accessed my credit card ...\n",
      "✅ Total reviews scraped: 98\n"
     ]
    }
   ],
   "source": [
    "from selenium import webdriver\n",
    "from selenium.webdriver.common.by import By\n",
    "from selenium.webdriver.chrome.service import Service\n",
    "from webdriver_manager.chrome import ChromeDriverManager\n",
    "from selenium.webdriver.chrome.options import Options\n",
    "from selenium.webdriver.support.ui import WebDriverWait\n",
    "from selenium.webdriver.support import expected_conditions as EC\n",
    "import pandas as pd\n",
    "import time\n",
    "\n",
    "# Setup WebDriver\n",
    "options = Options()\n",
    "options.add_argument(\"--headless\")\n",
    "driver = webdriver.Chrome(service=Service(ChromeDriverManager().install()), options=options)\n",
    "\n",
    "# Open Trustpilot page\n",
    "url = \"https://www.trustpilot.com/review/www.zendesk.com\"\n",
    "driver.get(url)\n",
    "\n",
    "# Initialize reviews list\n",
    "all_reviews = []\n",
    "\n",
    "while True:\n",
    "    try:\n",
    "        # Wait for reviews to load\n",
    "        WebDriverWait(driver, 10).until(\n",
    "            EC.presence_of_all_elements_located((By.XPATH, \"//p[contains(@class, 'typography_body')]\"))\n",
    "        )\n",
    "\n",
    "        # Extract reviews on this page\n",
    "        review_elements = driver.find_elements(By.XPATH, \"//p[contains(@class, 'typography_body')]\")\n",
    "        page_reviews = [elem.text for elem in review_elements]\n",
    "        all_reviews.extend(page_reviews)\n",
    "\n",
    "        # Try clicking the next page button\n",
    "        next_button = driver.find_element(By.CSS_SELECTOR, 'a[data-pagination-button-next-link]')\n",
    "        if 'disabled' in next_button.get_attribute('class'):\n",
    "            break  # No more pages\n",
    "        next_button.click()\n",
    "        time.sleep(2)  # Give time for page transition\n",
    "\n",
    "    except Exception as e:\n",
    "        print(\"No more pages or error:\", e)\n",
    "        break\n",
    "\n",
    "# Convert to DataFrame\n",
    "df_reviews = pd.DataFrame(all_reviews, columns=[\"review\"])\n",
    "print(df_reviews.head())\n",
    "print(f\"✅ Total reviews scraped: {len(df_reviews)}\")\n",
    "\n",
    "driver.quit()"
   ]
  },
  {
   "cell_type": "code",
   "execution_count": 3,
   "id": "e71589b5-cf18-48b6-9ce2-d63dadec5b39",
   "metadata": {},
   "outputs": [
    {
     "name": "stdout",
     "output_type": "stream",
     "text": [
      "Requirement already satisfied: psycopg2-binary in /opt/anaconda3/lib/python3.12/site-packages (2.9.10)\n",
      "Note: you may need to restart the kernel to use updated packages.\n"
     ]
    }
   ],
   "source": [
    "pip install psycopg2-binary"
   ]
  },
  {
   "cell_type": "code",
   "execution_count": 9,
   "id": "327711e4-0562-4025-a984-743f5c0a4965",
   "metadata": {},
   "outputs": [
    {
     "name": "stdout",
     "output_type": "stream",
     "text": [
      "✅ Data uploaded to PostgreSQL.\n"
     ]
    }
   ],
   "source": [
    "from sqlalchemy import create_engine\n",
    "\n",
    "# PostgreSQL Connection Details\n",
    "user = 'postgres'\n",
    "password = 'isba_4715'\n",
    "host = 'isba-dev-02.cxue0o466fzu.us-east-1.rds.amazonaws.com'\n",
    "port = 5432\n",
    "database = 'postgres'  # Change this if using a different DB name\n",
    "\n",
    "# Create engine string\n",
    "engine = create_engine(f'postgresql+psycopg2://{user}:{password}@{host}:{port}/{database}')\n",
    "\n",
    "# Upload DataFrame\n",
    "df_reviews.to_sql(name='trustpilot_reviews', con=engine, if_exists='replace', index=False)\n",
    "\n",
    "print(\"✅ Data uploaded to PostgreSQL.\")"
   ]
  },
  {
   "cell_type": "code",
   "execution_count": 11,
   "id": "65feaea6-8c83-4711-95d5-fd519469779b",
   "metadata": {},
   "outputs": [
    {
     "data": {
      "text/plain": [
       "98"
      ]
     },
     "execution_count": 11,
     "metadata": {},
     "output_type": "execute_result"
    }
   ],
   "source": [
    "df_reviews.to_sql(\n",
    "    name='trustpilot_reviews',\n",
    "    con=engine,\n",
    "    schema='sql_project',  # 👈 this ensures it lands in the correct schema\n",
    "    if_exists='replace',\n",
    "    index=False\n",
    ")"
   ]
  },
  {
   "cell_type": "code",
   "execution_count": 2,
   "id": "acf05296-5ad9-4392-8b93-5086ff7bc925",
   "metadata": {},
   "outputs": [
    {
     "name": "stdout",
     "output_type": "stream",
     "text": [
      "✅ Successfully extracted and loaded Trustpilot Reviews!\n"
     ]
    }
   ],
   "source": [
    "from dotenv import load_dotenv\n",
    "import os\n",
    "import pandas as pd\n",
    "from sqlalchemy import create_engine\n",
    "\n",
    "load_dotenv()\n",
    "\n",
    "pg_conn_str = f\"postgresql+psycopg2://{os.getenv('PG_USER')}:{os.getenv('PG_PASSWORD')}@{os.getenv('PG_HOST')}/{os.getenv('PG_DB')}\"\n",
    "pg_engine = create_engine(pg_conn_str)\n",
    "\n",
    "# Extract\n",
    "query = \"SELECT * FROM sql_project.trustpilot_reviews\"\n",
    "df = pd.read_sql(query, pg_engine)\n",
    "\n",
    "# Load\n",
    "df.to_sql(\n",
    "    name='trustpilot_reviews_raw',\n",
    "    con=pg_engine,\n",
    "    schema='raw',\n",
    "    if_exists='replace',\n",
    "    index=False\n",
    ")\n",
    "\n",
    "print(\"✅ Successfully extracted and loaded Trustpilot Reviews!\")\n"
   ]
  },
  {
   "cell_type": "code",
   "execution_count": 4,
   "id": "1a7d44cf",
   "metadata": {},
   "outputs": [
    {
     "name": "stdout",
     "output_type": "stream",
     "text": [
      "<class 'pandas.core.frame.DataFrame'>\n",
      "Index: 88 entries, 0 to 91\n",
      "Data columns (total 1 columns):\n",
      " #   Column  Non-Null Count  Dtype \n",
      "---  ------  --------------  ----- \n",
      " 0   review  88 non-null     object\n",
      "dtypes: object(1)\n",
      "memory usage: 1.4+ KB\n",
      "None\n",
      "review    0\n",
      "dtype: int64\n",
      "       review\n",
      "count      88\n",
      "unique     88\n",
      "top       1.8\n",
      "freq        1\n",
      "                                              review\n",
      "0                                                1.8\n",
      "1  Companies on Trustpilot can’t offer incentives...\n",
      "2  the tool is easy to use, which allows to make ...\n",
      "3  Zendesk, the AI only support company charging ...\n",
      "4  Warning .This company accessed my credit card ...\n"
     ]
    }
   ],
   "source": [
    "# Quick checks\n",
    "print(df.info())\n",
    "print(df.isnull().sum())\n",
    "print(df.describe())\n",
    "print(df.head())\n",
    "\n",
    "# Light cleaning examples\n",
    "df.columns = [col.strip().lower().replace(' ', '_') for col in df.columns]  # Clean column names\n",
    "df = df.drop_duplicates()  # Remove duplicate rows\n",
    "df = df.dropna(subset=['review'])  # Remove rows missing important fields\n",
    "\n"
   ]
  }
 ],
 "metadata": {
  "kernelspec": {
   "display_name": "Python 3",
   "language": "python",
   "name": "python3"
  },
  "language_info": {
   "codemirror_mode": {
    "name": "ipython",
    "version": 3
   },
   "file_extension": ".py",
   "mimetype": "text/x-python",
   "name": "python",
   "nbconvert_exporter": "python",
   "pygments_lexer": "ipython3",
   "version": "3.12.1"
  }
 },
 "nbformat": 4,
 "nbformat_minor": 5
}
